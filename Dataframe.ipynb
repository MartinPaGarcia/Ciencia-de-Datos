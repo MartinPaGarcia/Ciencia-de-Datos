{
 "cells": [
  {
   "cell_type": "markdown",
   "id": "aa770443",
   "metadata": {},
   "source": [
    "# Imports"
   ]
  },
  {
   "cell_type": "code",
   "execution_count": 1,
   "id": "bf378bc5-c60d-4dcf-9879-af76e7b9ffb3",
   "metadata": {
    "tags": []
   },
   "outputs": [],
   "source": [
    "import pandas as pd\n",
    "import numpy as np\n",
    "import matplotlib.pyplot as plt"
   ]
  },
  {
   "cell_type": "code",
   "execution_count": 2,
   "id": "3bda14f8-e2f7-4432-b712-d7f0b514336f",
   "metadata": {
    "tags": []
   },
   "outputs": [],
   "source": [
    "data_size = 6_660\n",
    "inicial_date = \"11/5/2022\"    # When database beging\n",
    "rows_per_person =  (3 * 6)    # Num of people * Num of meals a day\n",
    "\n",
    "archive = \"Final Proyect 2.xlsx\"         # Main archive\n",
    "second_archive = \"Data _ new.xlsx\"     # Second archive"
   ]
  },
  {
   "cell_type": "markdown",
   "metadata": {},
   "source": [
    "### Key df parameters "
   ]
  },
  {
   "cell_type": "code",
   "execution_count": 3,
   "metadata": {},
   "outputs": [],
   "source": [
    "parameters = [\n",
    "    'calories', \n",
    "    'grasas saturadas (mg)', \n",
    "    'grasas insaturadas (mg)', \n",
    "    'proteinas (mg)', \n",
    "    'carbohydrates'\n",
    "    ]"
   ]
  },
  {
   "cell_type": "markdown",
   "metadata": {},
   "source": [
    "### Excel sheets"
   ]
  },
  {
   "cell_type": "code",
   "execution_count": 4,
   "metadata": {},
   "outputs": [],
   "source": [
    "all_sheets = [\n",
    "    \"Data\",\n",
    "    \"Calories\",                 \n",
    "    \"saturated_fat\",        \n",
    "    \"insaturated_fat\",      \n",
    "    \"proteins\",  \n",
    "    'carbohydrates' \n",
    "]"
   ]
  },
  {
   "cell_type": "markdown",
   "metadata": {},
   "source": [
    "# Calorias de los alimentos"
   ]
  },
  {
   "cell_type": "code",
   "execution_count": 5,
   "metadata": {},
   "outputs": [],
   "source": [
    "def meals():\n",
    "    return {\n",
    "        \"cereal\": 120,               # Per cup\n",
    "        \"tortilla de maiz\": 50,      # Per tortilla\n",
    "        \"tortilla de nopal\": 30,     # Per tortilla\n",
    "        \"palomitas de maiz\": 35,     # Per cup\n",
    "        \"papa cocida\": 90,           # Per medium potato\n",
    "        \"camote\": 100,               # Per medium sweet potato\n",
    "        \"pan de caja orowheat\": 70,  # Per slice\n",
    "        \"pan tostado\": 65,           # Per slice\n",
    "        \"galleta de avena\": 50,      # Per cookie\n",
    "        \"tostada horneada\": 70,      # Per piece\n",
    "        \"galletas marias\": 30,       # Per cookie\n",
    "        \"galletas habaneras\": 40,    # Per cookie\n",
    "        \"avena\": 150,                # Per cup cooked\n",
    "        \"grano lamixta\": 120,        # Per cup\n",
    "        \"salmitas\": 160,             # Per packet\n",
    "        \"arroz\": 200,                # Per cup cooked\n",
    "        \"pasta\": 220,                # Per cup cooked\n",
    "        \"yogurt griego\": 100,        # Per 100g\n",
    "        \"frijoles molidos\": 120,     # Per cup\n",
    "        \"habas\": 110,                # Per cup\n",
    "        \"pechuga de pollo\": 165,     # Per 100g\n",
    "        \"clara de huevo\": 17,        # Per egg white\n",
    "        \"sobre de atun\": 90,         # Per 100g\n",
    "        \"pechuga de pavo\": 120,      # Per 100g\n",
    "        \"salmon ahumado\": 120,       # Per 100g\n",
    "        \"pescado\": 200,              # Per 100g\n",
    "        \"queso panela light\": 90,    # Per 100g\n",
    "        \"bistec de bola cortemagro\": 150,    # Per 100g\n",
    "        \"huevo\": 78,                         # Per large egg\n",
    "        \"carne molida de sirloin\": 200,      # Per 100g\n",
    "        \"filete de res\": 250,        # Per 100g\n",
    "        \"filete de arrachera\": 210,  # Per 100g\n",
    "        \"aguacate(con cucharadita aceite de coco)\": 120,  # Per 100g\n",
    "        \"nueces\": 650,               # Per 100g\n",
    "        \"almendras\": 579,            # Per 100g\n",
    "        \"aceite de aguacate\": 884,   # Per 100g\n",
    "        \"aceite de oliva\": 884,      # Per 100g\n",
    "        \"mantequilla de maní\": 590,  # Per 100g\n",
    "        \"Melon\": 34,                 # Per 100g\n",
    "        \"Platano\": 89,               # Per 100g\n",
    "        \"Manzana\": 52,               # Per 100g\n",
    "        \"Chapata\": 250,              # Per loaf\n",
    "        \"Salmon\": 206,               # Per 100g\n",
    "        \"Pasta\": 220,                # Already defined\n",
    "        \"Arroz\": 200,                # Already defined\n",
    "        \"Frituras\": 536,             # Per 100g\n",
    "        \"Tacos\": 150,                # Per taco\n",
    "        \"Motuleños\": 400,            # Per plate\n",
    "        \"Tostada\": 70,               # Already defined\n",
    "        \"Uvas\": 69,                  # Per 100g\n",
    "        \"Pure\": 85,                  # Per 100g\n",
    "        \"Tacos de salmon\": 200,      # Per taco\n",
    "        \"Café\": 2,                   # Per cup\n",
    "        \"Chocolate\": 546,            # Per 100g\n",
    "        \"Snacks\": 500,               # Per 100g\n",
    "        \"Pizza\": 266,                # Per slice\n",
    "        \"sabritas\": 536,             # Per 100g\n",
    "        \"fuzetea\": 19}               # Per 100ml"
   ]
  },
  {
   "cell_type": "markdown",
   "id": "79ff9a12",
   "metadata": {},
   "source": [
    "# Generate dates"
   ]
  },
  {
   "cell_type": "code",
   "execution_count": 6,
   "id": "2f75eda8-b5e3-4aa0-9b52-5115db1fa3fa",
   "metadata": {
    "tags": []
   },
   "outputs": [],
   "source": [
    "def generate_dates(inicial_date: str = inicial_date, size: int = data_size, rows: int = rows_per_person) -> list:\n",
    "    month, day, year = [int(date) for date in inicial_date.split(\"/\")]\n",
    "\n",
    "    dates = [f\"{month}/{day}/{year}\" for _ in range(rows)]\n",
    "    \n",
    "    for _ in range(size // rows - 1):\n",
    "        month31 = month == 1 or month == 3 or month == 5 or month == 7 or month == 8 or month == 10\n",
    "        month30 = month == 4 or month == 6 or month == 9 or month == 10 or month == 11\n",
    "\n",
    "        if month == 12 and day == 31:\n",
    "            \n",
    "            year += 1\n",
    "            day, month = 1, 1\n",
    "\n",
    "        elif month31 and day == 31 or month30 and day == 30 or month == 2 and day == 28:  # not prepare for leap years\n",
    "\n",
    "            month += 1\n",
    "            day = 1\n",
    "\n",
    "        else:\n",
    "            \n",
    "            day += 1\n",
    "\n",
    "\n",
    "        dates += [f\"{month}/{day}/{year}\" for _ in range(rows)]\n",
    "        \n",
    "\n",
    "    return dates"
   ]
  },
  {
   "cell_type": "markdown",
   "metadata": {},
   "source": [
    "# Generate parameters"
   ]
  },
  {
   "cell_type": "code",
   "execution_count": 7,
   "metadata": {},
   "outputs": [],
   "source": [
    "def index_match(\n",
    "        row: int, page_2: str, \n",
    "        page_1: str = all_sheets[0], buttom: str = \"I\", \n",
    "        amount_of_formulas: int = len(meals()) - 5,abcd = 'ABCDEFGHIJKLMNOPQRSTUVWXYZ'):\n",
    "    \n",
    "\n",
    "    def _xlabel(buttom: str, top: int):\n",
    "    \n",
    "        buttom = {\n",
    "            key: value + 1 \n",
    "            for value, key in enumerate(abcd)\n",
    "            }[buttom]\n",
    "        \n",
    "        top += buttom     \n",
    "\n",
    "        basic_xlabel = abcd\n",
    "        xlabel = [letter for letter in abcd]\n",
    "\n",
    "        for letter in basic_xlabel:\n",
    "            for secondletter in basic_xlabel:\n",
    "                xlabel.append(letter + secondletter)\n",
    "\n",
    "        return xlabel[buttom:top]\n",
    "\n",
    "\n",
    "    xlabel = _xlabel(buttom, amount_of_formulas)\n",
    "    formulas = \"= \"\n",
    "    \n",
    "    coordenates = \"$A$1:$BF$11\"         # Main array---------------\n",
    " \n",
    "    \n",
    "    \n",
    "    for i, cell in enumerate(xlabel):\n",
    "        if i == (amount_of_formulas - 1): formula_end = \"\"\n",
    "        else: formula_end = \" + \"\n",
    "\n",
    "\n",
    "        formulas += f\"INDEX({page_2}!{coordenates}, {page_1}!${cell}{row} + 2,  {i + 1}){formula_end}\"\n",
    "        \n",
    "\n",
    "    # INDEX(Calories!$A$1:$BF$11, Data!$J2 + 2,  1)\n",
    "\n",
    "    \n",
    "    return formulas"
   ]
  },
  {
   "cell_type": "markdown",
   "id": "6243c646",
   "metadata": {},
   "source": [
    "# Generate data"
   ]
  },
  {
   "cell_type": "code",
   "execution_count": 8,
   "id": "8d47518b-33f5-4028-8c2e-6dadbb605950",
   "metadata": {
    "tags": []
   },
   "outputs": [],
   "source": [
    "def generate_data(data: str) -> pd.DataFrame:\n",
    "\n",
    "    if data == all_sheets[0]:\n",
    "        \n",
    "        total_hours = []\n",
    "        people = ['palomares' , 'adrian', 'angel'] * (data_size // 3)\n",
    "        keys = [\n",
    "                    'fecha', 'hora', 'persona', 'num. comidas'\n",
    "                ]\n",
    "        hours = [\n",
    "                    '7:00:00 AM',\n",
    "                    '10:00:00 AM',\n",
    "                    '2:00:00 PM',\n",
    "                    '6:00:00 PM',\n",
    "                    '10:00:00 PM',\n",
    "                    '11:00:00 PM'\n",
    "    ]\n",
    "        food = list(meals())\n",
    "\n",
    "        \n",
    "    # For filling in the calorie content for the newly added foods, I will use standard calorie values from reliable sources.\n",
    "    # These are approximate values and may vary based on specific food varieties and preparation methods.\n",
    "        amount_food = [[np.random.randint(0, 3) for _ in range(data_size)] for _ in enumerate(food)]\n",
    "\n",
    "\n",
    "        for hour in hours: total_hours.extend((hour, hour, hour))\n",
    "        total_hours *= (data_size // rows_per_person)\n",
    "\n",
    "        values = [generate_dates(), total_hours, people] + [[np.nan for _ in range(data_size)] for _ in range(6)]\n",
    "        \n",
    "\n",
    "        df = {key: value for key, value in zip(keys, values)}\n",
    "        for key, value in zip(food, amount_food): df[key] = value\n",
    "\n",
    "\n",
    "        df =  pd.DataFrame(df)\n",
    "\n",
    "        df['num. comidas'] = df[food].sum(axis=1, numeric_only=True)\n",
    "\n",
    "\n",
    "        return df\n",
    "    \n",
    "    \n",
    "    if data == all_sheets[1]:\n",
    "        return pd.DataFrame({key: [value * i for i in range(10)] for key, value in meals().items()})\n",
    "    \n",
    "    if data == all_sheets[2]:\n",
    "        return pd.DataFrame({key: [value * i for i in range(10)] for key, value in meals().items()})\n",
    "    \n",
    "    if data == all_sheets[3]:\n",
    "        return pd.DataFrame({key: [value * i for i in range(10)] for key, value in meals().items()})\n",
    "    \n",
    "    if data == all_sheets[4]:\n",
    "        return pd.DataFrame({key: [value * i for i in range(10)] for key, value in meals().items()})\n",
    "    \n",
    "    if data == all_sheets[5]:\n",
    "        return pd.DataFrame({key: [value * i for i in range(10)] for key, value in meals().items()})"
   ]
  },
  {
   "cell_type": "markdown",
   "id": "b4af925e",
   "metadata": {},
   "source": [
    "# Print data"
   ]
  },
  {
   "cell_type": "code",
   "execution_count": 9,
   "id": "9cc862f5-100c-487b-b24f-044583e52771",
   "metadata": {
    "tags": []
   },
   "outputs": [],
   "source": [
    "def print_data(new: bool): \n",
    "\n",
    "    with pd.ExcelWriter(second_archive if new else archive ,engine=\"openpyxl\") as writer:\n",
    "\n",
    "        for sheet in all_sheets:\n",
    "            generate_data(sheet).to_excel(writer, sheet_name=sheet, index=False)\n",
    "\n",
    "\n",
    "        for i, key in enumerate(parameters):\n",
    "            pd.DataFrame({key: [index_match(row + 2, page_2=all_sheets[i + 1]) for row in range(data_size)]})\\\n",
    "                .to_excel(writer, sheet_name=all_sheets[0], startcol=(i + 4),index=False)\n",
    "            \n",
    "        "
   ]
  },
  {
   "cell_type": "code",
   "execution_count": 10,
   "metadata": {},
   "outputs": [],
   "source": [
    "def read_new_data(new: bool):   \n",
    "    \n",
    "    return pd.read_excel(\n",
    "        second_archive if new else archive,\n",
    "        sheet_name = all_sheets[0],\n",
    "        na_values = None\n",
    "    )"
   ]
  }
 ],
 "metadata": {
  "kernelspec": {
   "display_name": "Python 3 (ipykernel)",
   "language": "python",
   "name": "python3"
  },
  "language_info": {
   "codemirror_mode": {
    "name": "ipython",
    "version": 3
   },
   "file_extension": ".py",
   "mimetype": "text/x-python",
   "name": "python",
   "nbconvert_exporter": "python",
   "pygments_lexer": "ipython3",
   "version": "3.11.3"
  }
 },
 "nbformat": 4,
 "nbformat_minor": 5
}
