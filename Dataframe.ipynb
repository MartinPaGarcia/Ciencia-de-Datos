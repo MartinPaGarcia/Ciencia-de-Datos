{
 "cells": [
  {
   "cell_type": "markdown",
   "id": "aa770443",
   "metadata": {},
   "source": [
    "# Imports"
   ]
  },
  {
   "cell_type": "code",
   "execution_count": 1,
   "metadata": {},
   "outputs": [],
   "source": [
    "import os"
   ]
  },
  {
   "cell_type": "code",
   "execution_count": 2,
   "id": "bf378bc5-c60d-4dcf-9879-af76e7b9ffb3",
   "metadata": {
    "tags": []
   },
   "outputs": [],
   "source": [
    "import pandas as pd\n",
    "import numpy as np\n",
    "import matplotlib.pyplot as plt"
   ]
  },
  {
   "cell_type": "code",
   "execution_count": 3,
   "id": "3bda14f8-e2f7-4432-b712-d7f0b514336f",
   "metadata": {
    "tags": []
   },
   "outputs": [],
   "source": [
    "data_size = 1_800 # 6_660\n",
    "inicial_date = \"11/5/2022\"    # When database beging\n",
    "rows_per_person =  (3 * 6)    # Num of people * Num of meals a day\n",
    "\n",
    "archive = \"Final Proyect 2.xlsx\"         # Main archive\n",
    "second_archive = \"Data _ new.xlsx\"     # Second archive"
   ]
  },
  {
   "cell_type": "markdown",
   "metadata": {},
   "source": [
    "### Key df parameters "
   ]
  },
  {
   "cell_type": "code",
   "execution_count": 4,
   "metadata": {},
   "outputs": [],
   "source": [
    "parameters = [\n",
    "    'calories', \n",
    "    'grasas saturada (sum)', \n",
    "    'grasas insaturadas (sum)', \n",
    "    'proteinas (sum)', \n",
    "    'carbohidratos'\n",
    "    ]"
   ]
  },
  {
   "cell_type": "markdown",
   "metadata": {},
   "source": [
    "### Excel sheets"
   ]
  },
  {
   "cell_type": "code",
   "execution_count": 5,
   "metadata": {},
   "outputs": [],
   "source": [
    "all_sheets = [\n",
    " \"Data\",\n",
    " \"Calories\",                 \n",
    " \"fat saturated\",        \n",
    " \"fat insaturated\",      \n",
    " \"proteins\",  \n",
    " 'carbohidratos' \n",
    "]"
   ]
  },
  {
   "cell_type": "markdown",
   "metadata": {},
   "source": [
    "# Calorias de los alimentos"
   ]
  },
  {
   "cell_type": "code",
   "execution_count": 6,
   "metadata": {},
   "outputs": [],
   "source": [
    "def meals():\n",
    "    return {\n",
    "        \"cereal\": 120,               # Per cup\n",
    "        \"tortilla de maiz\": 50,      # Per tortilla\n",
    "        \"tortilla de nopal\": 30,     # Per tortilla\n",
    "        \"palomitas de maiz\": 35,     # Per cup\n",
    "        \"papa cocida\": 90,           # Per medium potato\n",
    "        \"camote\": 100,               # Per medium sweet potato\n",
    "        \"pan de caja orowheat\": 70,  # Per slice\n",
    "        \"pan tostado\": 65,           # Per slice\n",
    "        \"galleta de avena\": 50,      # Per cookie\n",
    "        \"tostada horneada\": 70,      # Per piece\n",
    "        \"galletas marias\": 30,       # Per cookie\n",
    "        \"galletas habaneras\": 40,    # Per cookie\n",
    "        \"avena\": 150,                # Per cup cooked\n",
    "        \"grano lamixta\": 120,        # Per cup\n",
    "        \"salmitas\": 160,             # Per packet\n",
    "        \"arroz\": 200,                # Per cup cooked\n",
    "        \"pasta\": 220,                # Per cup cooked\n",
    "        \"yogurt griego\": 100,        # Per 100g\n",
    "        \"frijoles molidos\": 120,     # Per cup\n",
    "        \"habas\": 110,                # Per cup\n",
    "        \"pechuga de pollo\": 165,     # Per 100g\n",
    "        \"clara de huevo\": 17,        # Per egg white\n",
    "        \"sobre de atun\": 90,         # Per 100g\n",
    "        \"pechuga de pavo\": 120,      # Per 100g\n",
    "        \"salmon ahumado\": 120,       # Per 100g\n",
    "        \"pescado\": 200,              # Per 100g\n",
    "        \"queso panela light\": 90,    # Per 100g\n",
    "        \"bistec de bola cortemagro\": 150,    # Per 100g\n",
    "        \"huevo\": 78,                         # Per large egg\n",
    "        \"carne molida de sirloin\": 200,      # Per 100g\n",
    "        \"filete de res\": 250,        # Per 100g\n",
    "        \"filete de arrachera\": 210,  # Per 100g\n",
    "        \"aguacate(con cucharadita aceite de coco)\": 120,  # Per 100g\n",
    "        \"nueces\": 650,               # Per 100g\n",
    "        \"almendras\": 579,            # Per 100g\n",
    "        \"aceite de aguacate\": 884,   # Per 100g\n",
    "        \"aceite de oliva\": 884,      # Per 100g\n",
    "        \"mantequilla de maní\": 590,  # Per 100g\n",
    "        \"Melon\": 34,                 # Per 100g\n",
    "        \"Platano\": 89,               # Per 100g\n",
    "        \"Manzana\": 52,               # Per 100g\n",
    "        \"Chapata\": 250,              # Per loaf\n",
    "        \"Salmon\": 206,               # Per 100g\n",
    "        \"Pasta\": 220,                # Already defined\n",
    "        \"Arroz\": 200,                # Already defined\n",
    "        \"Frituras\": 536,             # Per 100g\n",
    "        \"Tacos\": 150,                # Per taco\n",
    "        \"Motuleños\": 400,            # Per plate\n",
    "        \"Tostada\": 70,               # Already defined\n",
    "        \"Uvas\": 69,                  # Per 100g\n",
    "        \"Pure\": 85,                  # Per 100g\n",
    "        \"Tacos de salmon\": 200,      # Per taco\n",
    "        \"Café\": 2,                   # Per cup\n",
    "        \"Chocolate\": 546,            # Per 100g\n",
    "        \"Snacks\": 500,               # Per 100g\n",
    "        \"Pizza\": 266,                # Per slice\n",
    "        \"sabritas\": 536,             # Per 100g\n",
    "        \"fuzetea\": 19}               # Per 100ml"
   ]
  },
  {
   "cell_type": "markdown",
   "id": "79ff9a12",
   "metadata": {},
   "source": [
    "# Generate dates"
   ]
  },
  {
   "cell_type": "code",
   "execution_count": 7,
   "id": "2f75eda8-b5e3-4aa0-9b52-5115db1fa3fa",
   "metadata": {
    "tags": []
   },
   "outputs": [],
   "source": [
    "def generate_dates(inicial_date: str = inicial_date, size: int = data_size, rows: int = rows_per_person) -> list:\n",
    "    month, day, year = [int(date) for date in inicial_date.split(\"/\")]\n",
    "\n",
    "    dates = [f\"{month}/{day}/{year}\" for _ in range(rows)]\n",
    "    \n",
    "    for _ in range(size // rows - 1):\n",
    "        month31 = month == 1 or month == 3 or month == 5 or month == 7 or month == 8 or month == 10\n",
    "        month30 = month == 4 or month == 6 or month == 9 or month == 10 or month == 11\n",
    "\n",
    "        if month == 12 and day == 31:\n",
    "            \n",
    "            year += 1\n",
    "            day, month = 1, 1\n",
    "\n",
    "        elif month31 and day == 31 or month30 and day == 30 or month == 2 and day == 28:  # not prepare for leap years\n",
    "\n",
    "            month += 1\n",
    "            day = 1\n",
    "\n",
    "        else:\n",
    "            \n",
    "            day += 1\n",
    "\n",
    "\n",
    "        dates += [f\"{month}/{day}/{year}\" for _ in range(rows)]\n",
    "        \n",
    "\n",
    "    return dates"
   ]
  },
  {
   "cell_type": "markdown",
   "metadata": {},
   "source": [
    "# Generate parameters"
   ]
  },
  {
   "cell_type": "code",
   "execution_count": 26,
   "metadata": {},
   "outputs": [],
   "source": [
    "def index_match(\n",
    "        data: str, row: int, page_2: str, \n",
    "        page_1: str = all_sheets[0], buttom: str = \"I\", amount_of_formulas: int = len(meals()),abcd = 'ABCDEFGHIJKLMNOPQRSTUVWXYZ'):\n",
    "    \n",
    "\n",
    "    def _xlabel(buttom: str, top: int):\n",
    "    \n",
    "        buttom = {\n",
    "            key: value + 1 \n",
    "            for value, key in enumerate(abcd)\n",
    "            }[buttom]\n",
    "        \n",
    "        top += buttom     # check later -----------\n",
    "\n",
    "        basic_xlabel = abcd\n",
    "        xlabel = [letter for letter in abcd]\n",
    "\n",
    "        for letter in basic_xlabel:\n",
    "            for secondletter in basic_xlabel:\n",
    "                xlabel.append(letter + secondletter)\n",
    "\n",
    "        return xlabel[buttom:top]\n",
    "\n",
    "\n",
    "    xlabel = _xlabel(buttom, amount_of_formulas)\n",
    "    formulas = \"= \"\n",
    "    \n",
    "    page_1 = \"Data\"\n",
    "    coordenates1 = \"$1\"           # row lookup \n",
    "    coordenates2 = \"2\"            # col Lookup\n",
    "    \n",
    "    page_2 = \"Calories\"\n",
    "    coordenates = \"$A:$L\"         # Main array---------------\n",
    "\n",
    "    coordenates3 = \"$A$1:$L$1\"    # col array \n",
    "    coordenates4 = \"$A:$A\"        # row array \n",
    "    \n",
    "    \n",
    "    \n",
    "    for i, cell in enumerate(xlabel):\n",
    "        if i == (amount_of_formulas - 1):\n",
    "            formulas += f\"INDEX({page_2}!$A$1:$BF$11, {page_1}!${cell}{row} + 2,  {i + 1})\"\n",
    "        else:\n",
    "            formulas += f\"INDEX({page_2}!$A$1:$BF$11, {page_1}!${cell}{row} + 2,  {i + 1}) + \"\n",
    "            \n",
    "\n",
    "    # INDEX(Calories!$A$1:$BF$11, Data!$J2 + 2,  1)\n",
    "\n",
    "    # INDEX(Calories!$A$1:$BF$11, Data!$J3 + 2,  1)\n",
    "            \n",
    "            \n",
    "    # INDEX(Calories!A:L, MATCH(Data!B$1, Calories!$A:$A, 0),MATCH(Data!B2, Calories!$A$1:$L$1,0 ))\n",
    "            \n",
    "    # formulas = f\"Index({page_2}!{coordenates}, Match({page_1}!{coordenates1}, {page_2}!{coordenates3}, 0), Match({page_1}!{coordenates2}, {page_2}!{coordenates4}, 0))\"\n",
    "    \n",
    "    return formulas"
   ]
  },
  {
   "cell_type": "markdown",
   "id": "6243c646",
   "metadata": {},
   "source": [
    "# Generate data"
   ]
  },
  {
   "cell_type": "code",
   "execution_count": 9,
   "id": "8d47518b-33f5-4028-8c2e-6dadbb605950",
   "metadata": {
    "tags": []
   },
   "outputs": [],
   "source": [
    "def generate_data(data: str) -> pd.DataFrame:\n",
    "\n",
    "    if data == all_sheets[0]:\n",
    "        \n",
    "        total_hours = []\n",
    "        people = ['palomares' , 'adrian', 'angel'] * (data_size // 3)\n",
    "        keys = [\n",
    "                    'fecha', 'hora', 'persona', 'num. comidas'\n",
    "                ]\n",
    "        hours = [\n",
    "                    '7:00:00 AM',\n",
    "                    '10:00:00 AM',\n",
    "                    '2:00:00 PM',\n",
    "                    '6:00:00 PM',\n",
    "                    '10:00:00 PM',\n",
    "                    '11:00:00 PM'\n",
    "    ]\n",
    "        food = list(meals())\n",
    "\n",
    "        \n",
    "    # For filling in the calorie content for the newly added foods, I will use standard calorie values from reliable sources.\n",
    "    # These are approximate values and may vary based on specific food varieties and preparation methods.\n",
    "        amount_food = [[np.random.randint(0, 3) for _ in range(data_size)] for _ in enumerate(food)]\n",
    "\n",
    "\n",
    "        for hour in hours: total_hours.extend((hour, hour, hour))\n",
    "        total_hours *= (data_size // rows_per_person)\n",
    "\n",
    "        values = [generate_dates(), total_hours, people] + [[np.nan for _ in range(data_size)] for _ in range(6)]\n",
    "        \n",
    "\n",
    "        df = {key: value for key, value in zip(keys, values)}\n",
    "        for key, value in zip(food, amount_food): df[key] = value\n",
    "\n",
    "\n",
    "        df =  pd.DataFrame(df)\n",
    "\n",
    "        df['num. comidas'] = df[food].sum(axis=1, numeric_only=True)\n",
    "\n",
    "\n",
    "        return df\n",
    "    \n",
    "    \n",
    "    if data == all_sheets[1]:\n",
    "        return pd.DataFrame({key: [value * i for i in range(10)] for key, value in meals().items()})\n",
    "    \n",
    "    if data == all_sheets[2]:\n",
    "        return pd.DataFrame({key: [value * i for i in range(10)] for key, value in meals().items()})\n",
    "    \n",
    "    if data == all_sheets[3]:\n",
    "        return pd.DataFrame({key: [value * i for i in range(10)] for key, value in meals().items()})\n",
    "    \n",
    "    if data == all_sheets[4]:\n",
    "        return pd.DataFrame({key: [value * i for i in range(10)] for key, value in meals().items()})\n",
    "    \n",
    "    if data == all_sheets[5]:\n",
    "        return pd.DataFrame({key: [value * i for i in range(10)] for key, value in meals().items()})"
   ]
  },
  {
   "cell_type": "markdown",
   "id": "b4af925e",
   "metadata": {},
   "source": [
    "# Print data"
   ]
  },
  {
   "cell_type": "code",
   "execution_count": 27,
   "id": "9cc862f5-100c-487b-b24f-044583e52771",
   "metadata": {
    "tags": []
   },
   "outputs": [],
   "source": [
    "def print_data(new: bool): # Add function to create a diferent archive ---- \n",
    "\n",
    "    with pd.ExcelWriter(archive ,engine=\"openpyxl\") as writer:\n",
    "\n",
    "        for sheet in all_sheets:\n",
    "            generate_data(sheet).to_excel(writer, sheet_name=sheet, index=False)\n",
    "\n",
    "\n",
    "        for i, key in enumerate(parameters):\n",
    "            pd.DataFrame({key: [index_match(key, row + 2, page_2=all_sheets[i]) for row in range(data_size)]})\\\n",
    "                .to_excel(writer, sheet_name=all_sheets[0], startcol=(i + 4),index=False)"
   ]
  },
  {
   "cell_type": "code",
   "execution_count": 30,
   "metadata": {},
   "outputs": [],
   "source": [
    "def read_new_data(new: bool):  # Add function to read a diferent archive ---- \n",
    "    \n",
    "    return pd.read_excel(\n",
    "        archive,\n",
    "        sheet_name = all_sheets[0],\n",
    "        na_values = None\n",
    "    )"
   ]
  },
  {
   "cell_type": "code",
   "execution_count": null,
   "metadata": {},
   "outputs": [],
   "source": []
  },
  {
   "cell_type": "code",
   "execution_count": 28,
   "id": "adb67a74",
   "metadata": {},
   "outputs": [],
   "source": [
    "print_data(True)"
   ]
  },
  {
   "cell_type": "code",
   "execution_count": 33,
   "metadata": {},
   "outputs": [],
   "source": [
    "os.remove(archive)"
   ]
  },
  {
   "cell_type": "code",
   "execution_count": 34,
   "metadata": {},
   "outputs": [
    {
     "ename": "FileNotFoundError",
     "evalue": "[Errno 2] No such file or directory: 'Final Proyect 2.xlsx'",
     "output_type": "error",
     "traceback": [
      "\u001b[1;31m---------------------------------------------------------------------------\u001b[0m",
      "\u001b[1;31mFileNotFoundError\u001b[0m                         Traceback (most recent call last)",
      "\u001b[1;32mc:\\Users\\angel\\python\\Anaconda\\DataScience\\Ciencia-de-Datos\\Dataframe.ipynb Cell 23\u001b[0m line \u001b[0;36m1\n\u001b[1;32m----> <a href='vscode-notebook-cell:/c%3A/Users/angel/python/Anaconda/DataScience/Ciencia-de-Datos/Dataframe.ipynb#X56sZmlsZQ%3D%3D?line=0'>1</a>\u001b[0m df \u001b[39m=\u001b[39m read_new_data(\u001b[39mFalse\u001b[39;00m)\n\u001b[0;32m      <a href='vscode-notebook-cell:/c%3A/Users/angel/python/Anaconda/DataScience/Ciencia-de-Datos/Dataframe.ipynb#X56sZmlsZQ%3D%3D?line=2'>3</a>\u001b[0m df\n",
      "\u001b[1;32mc:\\Users\\angel\\python\\Anaconda\\DataScience\\Ciencia-de-Datos\\Dataframe.ipynb Cell 23\u001b[0m line \u001b[0;36m3\n\u001b[0;32m      <a href='vscode-notebook-cell:/c%3A/Users/angel/python/Anaconda/DataScience/Ciencia-de-Datos/Dataframe.ipynb#X56sZmlsZQ%3D%3D?line=0'>1</a>\u001b[0m \u001b[39mdef\u001b[39;00m \u001b[39mread_new_data\u001b[39m(new: \u001b[39mbool\u001b[39m):  \u001b[39m# Add function to read a diferent archive ---- \u001b[39;00m\n\u001b[1;32m----> <a href='vscode-notebook-cell:/c%3A/Users/angel/python/Anaconda/DataScience/Ciencia-de-Datos/Dataframe.ipynb#X56sZmlsZQ%3D%3D?line=2'>3</a>\u001b[0m     \u001b[39mreturn\u001b[39;00m pd\u001b[39m.\u001b[39mread_excel(\n\u001b[0;32m      <a href='vscode-notebook-cell:/c%3A/Users/angel/python/Anaconda/DataScience/Ciencia-de-Datos/Dataframe.ipynb#X56sZmlsZQ%3D%3D?line=3'>4</a>\u001b[0m         archive,\n\u001b[0;32m      <a href='vscode-notebook-cell:/c%3A/Users/angel/python/Anaconda/DataScience/Ciencia-de-Datos/Dataframe.ipynb#X56sZmlsZQ%3D%3D?line=4'>5</a>\u001b[0m         sheet_name \u001b[39m=\u001b[39m all_sheets[\u001b[39m0\u001b[39m],\n\u001b[0;32m      <a href='vscode-notebook-cell:/c%3A/Users/angel/python/Anaconda/DataScience/Ciencia-de-Datos/Dataframe.ipynb#X56sZmlsZQ%3D%3D?line=5'>6</a>\u001b[0m         na_values \u001b[39m=\u001b[39m \u001b[39mNone\u001b[39;00m\n\u001b[0;32m      <a href='vscode-notebook-cell:/c%3A/Users/angel/python/Anaconda/DataScience/Ciencia-de-Datos/Dataframe.ipynb#X56sZmlsZQ%3D%3D?line=6'>7</a>\u001b[0m     )\n",
      "File \u001b[1;32mc:\\Users\\angel\\AppData\\Local\\anaconda3\\Lib\\site-packages\\pandas\\util\\_decorators.py:211\u001b[0m, in \u001b[0;36mdeprecate_kwarg.<locals>._deprecate_kwarg.<locals>.wrapper\u001b[1;34m(*args, **kwargs)\u001b[0m\n\u001b[0;32m    209\u001b[0m     \u001b[39melse\u001b[39;00m:\n\u001b[0;32m    210\u001b[0m         kwargs[new_arg_name] \u001b[39m=\u001b[39m new_arg_value\n\u001b[1;32m--> 211\u001b[0m \u001b[39mreturn\u001b[39;00m func(\u001b[39m*\u001b[39margs, \u001b[39m*\u001b[39m\u001b[39m*\u001b[39mkwargs)\n",
      "File \u001b[1;32mc:\\Users\\angel\\AppData\\Local\\anaconda3\\Lib\\site-packages\\pandas\\util\\_decorators.py:331\u001b[0m, in \u001b[0;36mdeprecate_nonkeyword_arguments.<locals>.decorate.<locals>.wrapper\u001b[1;34m(*args, **kwargs)\u001b[0m\n\u001b[0;32m    325\u001b[0m \u001b[39mif\u001b[39;00m \u001b[39mlen\u001b[39m(args) \u001b[39m>\u001b[39m num_allow_args:\n\u001b[0;32m    326\u001b[0m     warnings\u001b[39m.\u001b[39mwarn(\n\u001b[0;32m    327\u001b[0m         msg\u001b[39m.\u001b[39mformat(arguments\u001b[39m=\u001b[39m_format_argument_list(allow_args)),\n\u001b[0;32m    328\u001b[0m         \u001b[39mFutureWarning\u001b[39;00m,\n\u001b[0;32m    329\u001b[0m         stacklevel\u001b[39m=\u001b[39mfind_stack_level(),\n\u001b[0;32m    330\u001b[0m     )\n\u001b[1;32m--> 331\u001b[0m \u001b[39mreturn\u001b[39;00m func(\u001b[39m*\u001b[39margs, \u001b[39m*\u001b[39m\u001b[39m*\u001b[39mkwargs)\n",
      "File \u001b[1;32mc:\\Users\\angel\\AppData\\Local\\anaconda3\\Lib\\site-packages\\pandas\\io\\excel\\_base.py:482\u001b[0m, in \u001b[0;36mread_excel\u001b[1;34m(io, sheet_name, header, names, index_col, usecols, squeeze, dtype, engine, converters, true_values, false_values, skiprows, nrows, na_values, keep_default_na, na_filter, verbose, parse_dates, date_parser, thousands, decimal, comment, skipfooter, convert_float, mangle_dupe_cols, storage_options)\u001b[0m\n\u001b[0;32m    480\u001b[0m \u001b[39mif\u001b[39;00m \u001b[39mnot\u001b[39;00m \u001b[39misinstance\u001b[39m(io, ExcelFile):\n\u001b[0;32m    481\u001b[0m     should_close \u001b[39m=\u001b[39m \u001b[39mTrue\u001b[39;00m\n\u001b[1;32m--> 482\u001b[0m     io \u001b[39m=\u001b[39m ExcelFile(io, storage_options\u001b[39m=\u001b[39mstorage_options, engine\u001b[39m=\u001b[39mengine)\n\u001b[0;32m    483\u001b[0m \u001b[39melif\u001b[39;00m engine \u001b[39mand\u001b[39;00m engine \u001b[39m!=\u001b[39m io\u001b[39m.\u001b[39mengine:\n\u001b[0;32m    484\u001b[0m     \u001b[39mraise\u001b[39;00m \u001b[39mValueError\u001b[39;00m(\n\u001b[0;32m    485\u001b[0m         \u001b[39m\"\u001b[39m\u001b[39mEngine should not be specified when passing \u001b[39m\u001b[39m\"\u001b[39m\n\u001b[0;32m    486\u001b[0m         \u001b[39m\"\u001b[39m\u001b[39man ExcelFile - ExcelFile already has the engine set\u001b[39m\u001b[39m\"\u001b[39m\n\u001b[0;32m    487\u001b[0m     )\n",
      "File \u001b[1;32mc:\\Users\\angel\\AppData\\Local\\anaconda3\\Lib\\site-packages\\pandas\\io\\excel\\_base.py:1652\u001b[0m, in \u001b[0;36mExcelFile.__init__\u001b[1;34m(self, path_or_buffer, engine, storage_options)\u001b[0m\n\u001b[0;32m   1650\u001b[0m     ext \u001b[39m=\u001b[39m \u001b[39m\"\u001b[39m\u001b[39mxls\u001b[39m\u001b[39m\"\u001b[39m\n\u001b[0;32m   1651\u001b[0m \u001b[39melse\u001b[39;00m:\n\u001b[1;32m-> 1652\u001b[0m     ext \u001b[39m=\u001b[39m inspect_excel_format(\n\u001b[0;32m   1653\u001b[0m         content_or_path\u001b[39m=\u001b[39mpath_or_buffer, storage_options\u001b[39m=\u001b[39mstorage_options\n\u001b[0;32m   1654\u001b[0m     )\n\u001b[0;32m   1655\u001b[0m     \u001b[39mif\u001b[39;00m ext \u001b[39mis\u001b[39;00m \u001b[39mNone\u001b[39;00m:\n\u001b[0;32m   1656\u001b[0m         \u001b[39mraise\u001b[39;00m \u001b[39mValueError\u001b[39;00m(\n\u001b[0;32m   1657\u001b[0m             \u001b[39m\"\u001b[39m\u001b[39mExcel file format cannot be determined, you must specify \u001b[39m\u001b[39m\"\u001b[39m\n\u001b[0;32m   1658\u001b[0m             \u001b[39m\"\u001b[39m\u001b[39man engine manually.\u001b[39m\u001b[39m\"\u001b[39m\n\u001b[0;32m   1659\u001b[0m         )\n",
      "File \u001b[1;32mc:\\Users\\angel\\AppData\\Local\\anaconda3\\Lib\\site-packages\\pandas\\io\\excel\\_base.py:1525\u001b[0m, in \u001b[0;36minspect_excel_format\u001b[1;34m(content_or_path, storage_options)\u001b[0m\n\u001b[0;32m   1522\u001b[0m \u001b[39mif\u001b[39;00m \u001b[39misinstance\u001b[39m(content_or_path, \u001b[39mbytes\u001b[39m):\n\u001b[0;32m   1523\u001b[0m     content_or_path \u001b[39m=\u001b[39m BytesIO(content_or_path)\n\u001b[1;32m-> 1525\u001b[0m \u001b[39mwith\u001b[39;00m get_handle(\n\u001b[0;32m   1526\u001b[0m     content_or_path, \u001b[39m\"\u001b[39m\u001b[39mrb\u001b[39m\u001b[39m\"\u001b[39m, storage_options\u001b[39m=\u001b[39mstorage_options, is_text\u001b[39m=\u001b[39m\u001b[39mFalse\u001b[39;00m\n\u001b[0;32m   1527\u001b[0m ) \u001b[39mas\u001b[39;00m handle:\n\u001b[0;32m   1528\u001b[0m     stream \u001b[39m=\u001b[39m handle\u001b[39m.\u001b[39mhandle\n\u001b[0;32m   1529\u001b[0m     stream\u001b[39m.\u001b[39mseek(\u001b[39m0\u001b[39m)\n",
      "File \u001b[1;32mc:\\Users\\angel\\AppData\\Local\\anaconda3\\Lib\\site-packages\\pandas\\io\\common.py:865\u001b[0m, in \u001b[0;36mget_handle\u001b[1;34m(path_or_buf, mode, encoding, compression, memory_map, is_text, errors, storage_options)\u001b[0m\n\u001b[0;32m    856\u001b[0m         handle \u001b[39m=\u001b[39m \u001b[39mopen\u001b[39m(\n\u001b[0;32m    857\u001b[0m             handle,\n\u001b[0;32m    858\u001b[0m             ioargs\u001b[39m.\u001b[39mmode,\n\u001b[1;32m   (...)\u001b[0m\n\u001b[0;32m    861\u001b[0m             newline\u001b[39m=\u001b[39m\u001b[39m\"\u001b[39m\u001b[39m\"\u001b[39m,\n\u001b[0;32m    862\u001b[0m         )\n\u001b[0;32m    863\u001b[0m     \u001b[39melse\u001b[39;00m:\n\u001b[0;32m    864\u001b[0m         \u001b[39m# Binary mode\u001b[39;00m\n\u001b[1;32m--> 865\u001b[0m         handle \u001b[39m=\u001b[39m \u001b[39mopen\u001b[39m(handle, ioargs\u001b[39m.\u001b[39mmode)\n\u001b[0;32m    866\u001b[0m     handles\u001b[39m.\u001b[39mappend(handle)\n\u001b[0;32m    868\u001b[0m \u001b[39m# Convert BytesIO or file objects passed with an encoding\u001b[39;00m\n",
      "\u001b[1;31mFileNotFoundError\u001b[0m: [Errno 2] No such file or directory: 'Final Proyect 2.xlsx'"
     ]
    }
   ],
   "source": [
    "df = read_new_data(False)\n",
    "\n",
    "df"
   ]
  },
  {
   "cell_type": "code",
   "execution_count": null,
   "metadata": {},
   "outputs": [],
   "source": []
  }
 ],
 "metadata": {
  "kernelspec": {
   "display_name": "Python 3 (ipykernel)",
   "language": "python",
   "name": "python3"
  },
  "language_info": {
   "codemirror_mode": {
    "name": "ipython",
    "version": 3
   },
   "file_extension": ".py",
   "mimetype": "text/x-python",
   "name": "python",
   "nbconvert_exporter": "python",
   "pygments_lexer": "ipython3",
   "version": "3.11.3"
  }
 },
 "nbformat": 4,
 "nbformat_minor": 5
}
