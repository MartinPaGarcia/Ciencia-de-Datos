{
 "cells": [
  {
   "cell_type": "code",
   "execution_count": 1,
   "id": "bf378bc5-c60d-4dcf-9879-af76e7b9ffb3",
   "metadata": {
    "tags": []
   },
   "outputs": [],
   "source": [
    "import pandas as pd\n",
    "import numpy as np\n",
    "import matplotlib.pyplot as plt"
   ]
  },
  {
   "cell_type": "code",
   "execution_count": 2,
   "id": "3bda14f8-e2f7-4432-b712-d7f0b514336f",
   "metadata": {
    "tags": []
   },
   "outputs": [],
   "source": [
    "data_size = 1_800 # 6_660\n",
    "inicial_date = \"11/5/2022\"    # When database beging\n",
    "rows_per_person =  (3 * 6)    # Num of people * Num of meals a day\n",
    "\n",
    "archive = \"Final Proyect.xlsx\"      # Main archive\n",
    "new_archive = \"Data _ new 5.xlsx\"   # Second archive\n",
    "sheet = \"Data\"                      # Excel sheet"
   ]
  },
  {
   "cell_type": "code",
   "execution_count": 3,
   "id": "2f75eda8-b5e3-4aa0-9b52-5115db1fa3fa",
   "metadata": {
    "tags": []
   },
   "outputs": [],
   "source": [
    "def generate_dates(inicial_date: str = inicial_date, size: int = data_size, rows: int = rows_per_person) -> list:\n",
    "    month, day, year = [int(date) for date in inicial_date.split(\"/\")]\n",
    "\n",
    "    dates = [f\"{month}/{day}/{year}\" for _ in range(rows)]\n",
    "    \n",
    "    for _ in range(size // rows - 1):\n",
    "        month31 = month == 1 or month == 3 or month == 5 or month == 7 or month == 8 or month == 10\n",
    "        month30 = month == 4 or month == 6 or month == 9 or month == 10 or month == 11\n",
    "\n",
    "        if month == 12 and day == 31:\n",
    "            \n",
    "            year += 1\n",
    "            day, month = 1, 1\n",
    "\n",
    "        elif month31 and day == 31 or month30 and day == 30 or month == 2 and day == 28:  # not prepare for leap years\n",
    "\n",
    "            month += 1\n",
    "            day = 1\n",
    "\n",
    "        else:\n",
    "            \n",
    "            day += 1\n",
    "\n",
    "\n",
    "        dates += [f\"{month}/{day}/{year}\" for _ in range(rows)]\n",
    "        \n",
    "\n",
    "    return dates"
   ]
  },
  {
   "cell_type": "code",
   "execution_count": 4,
   "id": "8d47518b-33f5-4028-8c2e-6dadbb605950",
   "metadata": {
    "tags": []
   },
   "outputs": [],
   "source": [
    "def generate_data() -> pd.DataFrame:\n",
    "    \n",
    "    total_hours = []\n",
    "    people = ['palomares' , 'adrian', 'angel'] * (data_size // 3)\n",
    "    new_keys = ['fecha', 'hora', 'persona', 'num. comidas', 'calorias']\n",
    "    hours = \"7:00:00 AM, 10:00:00 AM, 2:00:00 PM, 6:00:00 PM, 10:00:00 PM, 11:00:00 PM\".split(\", \")\n",
    "    \n",
    "    food = \"\\\n",
    "mandarinas, sandía, mango, jugo de naranja, melon, cereal, tortilla de maiz, tortilla de nopal, palomitas de maiz, papa cocida, \\\n",
    "camote, pan de caja orowheat, pan tostado, galleta de avena, tostada horneada, galletas  marias, galletas habaneras, avena, \\\n",
    "grano lamixta, salmitas, arroz, pasta, yogurt griego, frijoles molidos, habas, pechuga de pollo, clara de huevo, \\\n",
    "sobre de atun, pechuga de pavo, salmon ahumado, pescado, queso panela light, bistec de bola cortemagro, huevo, carne molida de sirloin, \\\n",
    "filete de res, filete de arrachera, aguacate(con cucharadita aceite de coco), nueces, almendras, aceite de aguacate, aceite de oliva, \\\n",
    "mantequilla de maní, Melon, Platano, Manzana, Chapata, Salmon, Pasta, Arroz, Frituras, Tacos, Motuleños, Tostada, Uvas, Pure, \\\n",
    "Tacos de salmon, Café, Chocolate, Snacks, Pizza, sabritas, fuzetea \\\n",
    "\".lower().split(\", \")\n",
    "\n",
    "\n",
    "    amount_food = [[np.random.randint(0, 3) for _ in range(data_size)] for _ in enumerate(food)]\n",
    "    \n",
    "    \n",
    "    for hour in hours: total_hours.extend((hour, hour, hour))\n",
    "    total_hours = total_hours * (data_size // rows_per_person)\n",
    "    \n",
    "    new_values = [generate_dates(), total_hours, people, np.nan,np.nan]\n",
    "    \n",
    "    \n",
    "    for i, key in enumerate(new_values):\n",
    "        amount_food.insert(i, key)\n",
    "    \n",
    "    \n",
    "    for i, value in enumerate(new_keys):\n",
    "        food.insert(i, value)\n",
    "        \n",
    "    \n",
    "    df =  pd.DataFrame({key: values for key, values in zip(food, amount_food)})\n",
    "    \n",
    "    df['num. comidas'] = df[food].sum(axis=1, numeric_only=True)\n",
    "    \n",
    "    return df"
   ]
  },
  {
   "cell_type": "code",
   "execution_count": 5,
   "id": "9cc862f5-100c-487b-b24f-044583e52771",
   "metadata": {
    "tags": []
   },
   "outputs": [],
   "source": [
    "def print_data(new: bool):\n",
    "    \n",
    "    generate_data().to_excel(new_archive if new else archive, index=False)\n",
    "\n",
    "    \n",
    "def read_new_data(new: bool):\n",
    "    \n",
    "    data = pd.read_excel(\n",
    "        new_archive if new else archive,\n",
    "        sheet_name = sheet,\n",
    "        na_values = None\n",
    "    )\n",
    "    \n",
    "    return data"
   ]
  },
  {
   "cell_type": "code",
   "execution_count": 6,
   "id": "f8f61bfb-227a-4463-a59c-af6eb3c27bcd",
   "metadata": {
    "tags": []
   },
   "outputs": [
    {
     "data": {
      "text/html": [
       "<div>\n",
       "<style scoped>\n",
       "    .dataframe tbody tr th:only-of-type {\n",
       "        vertical-align: middle;\n",
       "    }\n",
       "\n",
       "    .dataframe tbody tr th {\n",
       "        vertical-align: top;\n",
       "    }\n",
       "\n",
       "    .dataframe thead th {\n",
       "        text-align: right;\n",
       "    }\n",
       "</style>\n",
       "<table border=\"1\" class=\"dataframe\">\n",
       "  <thead>\n",
       "    <tr style=\"text-align: right;\">\n",
       "      <th></th>\n",
       "      <th>fecha</th>\n",
       "      <th>hora</th>\n",
       "      <th>persona</th>\n",
       "      <th>num. comidas</th>\n",
       "      <th>calorias</th>\n",
       "      <th>mandarinas</th>\n",
       "      <th>sandía</th>\n",
       "      <th>mango</th>\n",
       "      <th>jugo de naranja</th>\n",
       "      <th>melon</th>\n",
       "      <th>...</th>\n",
       "      <th>tostada</th>\n",
       "      <th>uvas</th>\n",
       "      <th>pure</th>\n",
       "      <th>tacos de salmon</th>\n",
       "      <th>café</th>\n",
       "      <th>chocolate</th>\n",
       "      <th>snacks</th>\n",
       "      <th>pizza</th>\n",
       "      <th>sabritas</th>\n",
       "      <th>fuzetea</th>\n",
       "    </tr>\n",
       "  </thead>\n",
       "  <tbody>\n",
       "    <tr>\n",
       "      <th>0</th>\n",
       "      <td>11/5/2022</td>\n",
       "      <td>7:00:00 AM</td>\n",
       "      <td>palomares</td>\n",
       "      <td>63.0</td>\n",
       "      <td>NaN</td>\n",
       "      <td>2</td>\n",
       "      <td>2</td>\n",
       "      <td>0</td>\n",
       "      <td>2</td>\n",
       "      <td>2</td>\n",
       "      <td>...</td>\n",
       "      <td>2</td>\n",
       "      <td>0</td>\n",
       "      <td>2</td>\n",
       "      <td>1</td>\n",
       "      <td>0</td>\n",
       "      <td>0</td>\n",
       "      <td>1</td>\n",
       "      <td>2</td>\n",
       "      <td>2</td>\n",
       "      <td>2</td>\n",
       "    </tr>\n",
       "    <tr>\n",
       "      <th>1</th>\n",
       "      <td>11/5/2022</td>\n",
       "      <td>7:00:00 AM</td>\n",
       "      <td>adrian</td>\n",
       "      <td>64.0</td>\n",
       "      <td>NaN</td>\n",
       "      <td>1</td>\n",
       "      <td>1</td>\n",
       "      <td>2</td>\n",
       "      <td>1</td>\n",
       "      <td>2</td>\n",
       "      <td>...</td>\n",
       "      <td>2</td>\n",
       "      <td>2</td>\n",
       "      <td>2</td>\n",
       "      <td>1</td>\n",
       "      <td>0</td>\n",
       "      <td>2</td>\n",
       "      <td>2</td>\n",
       "      <td>2</td>\n",
       "      <td>0</td>\n",
       "      <td>0</td>\n",
       "    </tr>\n",
       "    <tr>\n",
       "      <th>2</th>\n",
       "      <td>11/5/2022</td>\n",
       "      <td>7:00:00 AM</td>\n",
       "      <td>angel</td>\n",
       "      <td>67.0</td>\n",
       "      <td>NaN</td>\n",
       "      <td>0</td>\n",
       "      <td>2</td>\n",
       "      <td>2</td>\n",
       "      <td>0</td>\n",
       "      <td>0</td>\n",
       "      <td>...</td>\n",
       "      <td>1</td>\n",
       "      <td>2</td>\n",
       "      <td>2</td>\n",
       "      <td>2</td>\n",
       "      <td>2</td>\n",
       "      <td>0</td>\n",
       "      <td>2</td>\n",
       "      <td>0</td>\n",
       "      <td>1</td>\n",
       "      <td>1</td>\n",
       "    </tr>\n",
       "    <tr>\n",
       "      <th>3</th>\n",
       "      <td>11/5/2022</td>\n",
       "      <td>10:00:00 AM</td>\n",
       "      <td>palomares</td>\n",
       "      <td>62.0</td>\n",
       "      <td>NaN</td>\n",
       "      <td>1</td>\n",
       "      <td>0</td>\n",
       "      <td>1</td>\n",
       "      <td>2</td>\n",
       "      <td>2</td>\n",
       "      <td>...</td>\n",
       "      <td>0</td>\n",
       "      <td>0</td>\n",
       "      <td>1</td>\n",
       "      <td>0</td>\n",
       "      <td>0</td>\n",
       "      <td>2</td>\n",
       "      <td>2</td>\n",
       "      <td>0</td>\n",
       "      <td>1</td>\n",
       "      <td>1</td>\n",
       "    </tr>\n",
       "    <tr>\n",
       "      <th>4</th>\n",
       "      <td>11/5/2022</td>\n",
       "      <td>10:00:00 AM</td>\n",
       "      <td>adrian</td>\n",
       "      <td>52.0</td>\n",
       "      <td>NaN</td>\n",
       "      <td>2</td>\n",
       "      <td>0</td>\n",
       "      <td>2</td>\n",
       "      <td>0</td>\n",
       "      <td>0</td>\n",
       "      <td>...</td>\n",
       "      <td>2</td>\n",
       "      <td>0</td>\n",
       "      <td>1</td>\n",
       "      <td>1</td>\n",
       "      <td>0</td>\n",
       "      <td>0</td>\n",
       "      <td>0</td>\n",
       "      <td>1</td>\n",
       "      <td>0</td>\n",
       "      <td>2</td>\n",
       "    </tr>\n",
       "    <tr>\n",
       "      <th>...</th>\n",
       "      <td>...</td>\n",
       "      <td>...</td>\n",
       "      <td>...</td>\n",
       "      <td>...</td>\n",
       "      <td>...</td>\n",
       "      <td>...</td>\n",
       "      <td>...</td>\n",
       "      <td>...</td>\n",
       "      <td>...</td>\n",
       "      <td>...</td>\n",
       "      <td>...</td>\n",
       "      <td>...</td>\n",
       "      <td>...</td>\n",
       "      <td>...</td>\n",
       "      <td>...</td>\n",
       "      <td>...</td>\n",
       "      <td>...</td>\n",
       "      <td>...</td>\n",
       "      <td>...</td>\n",
       "      <td>...</td>\n",
       "      <td>...</td>\n",
       "    </tr>\n",
       "    <tr>\n",
       "      <th>1795</th>\n",
       "      <td>2/12/2023</td>\n",
       "      <td>10:00:00 PM</td>\n",
       "      <td>adrian</td>\n",
       "      <td>69.0</td>\n",
       "      <td>NaN</td>\n",
       "      <td>1</td>\n",
       "      <td>0</td>\n",
       "      <td>1</td>\n",
       "      <td>1</td>\n",
       "      <td>1</td>\n",
       "      <td>...</td>\n",
       "      <td>0</td>\n",
       "      <td>2</td>\n",
       "      <td>0</td>\n",
       "      <td>2</td>\n",
       "      <td>1</td>\n",
       "      <td>0</td>\n",
       "      <td>0</td>\n",
       "      <td>2</td>\n",
       "      <td>0</td>\n",
       "      <td>2</td>\n",
       "    </tr>\n",
       "    <tr>\n",
       "      <th>1796</th>\n",
       "      <td>2/12/2023</td>\n",
       "      <td>10:00:00 PM</td>\n",
       "      <td>angel</td>\n",
       "      <td>57.0</td>\n",
       "      <td>NaN</td>\n",
       "      <td>1</td>\n",
       "      <td>0</td>\n",
       "      <td>0</td>\n",
       "      <td>1</td>\n",
       "      <td>1</td>\n",
       "      <td>...</td>\n",
       "      <td>0</td>\n",
       "      <td>2</td>\n",
       "      <td>2</td>\n",
       "      <td>1</td>\n",
       "      <td>2</td>\n",
       "      <td>1</td>\n",
       "      <td>2</td>\n",
       "      <td>0</td>\n",
       "      <td>0</td>\n",
       "      <td>2</td>\n",
       "    </tr>\n",
       "    <tr>\n",
       "      <th>1797</th>\n",
       "      <td>2/12/2023</td>\n",
       "      <td>11:00:00 PM</td>\n",
       "      <td>palomares</td>\n",
       "      <td>73.0</td>\n",
       "      <td>NaN</td>\n",
       "      <td>1</td>\n",
       "      <td>0</td>\n",
       "      <td>1</td>\n",
       "      <td>2</td>\n",
       "      <td>2</td>\n",
       "      <td>...</td>\n",
       "      <td>1</td>\n",
       "      <td>0</td>\n",
       "      <td>2</td>\n",
       "      <td>2</td>\n",
       "      <td>1</td>\n",
       "      <td>2</td>\n",
       "      <td>0</td>\n",
       "      <td>2</td>\n",
       "      <td>1</td>\n",
       "      <td>1</td>\n",
       "    </tr>\n",
       "    <tr>\n",
       "      <th>1798</th>\n",
       "      <td>2/12/2023</td>\n",
       "      <td>11:00:00 PM</td>\n",
       "      <td>adrian</td>\n",
       "      <td>63.0</td>\n",
       "      <td>NaN</td>\n",
       "      <td>0</td>\n",
       "      <td>1</td>\n",
       "      <td>1</td>\n",
       "      <td>1</td>\n",
       "      <td>2</td>\n",
       "      <td>...</td>\n",
       "      <td>0</td>\n",
       "      <td>1</td>\n",
       "      <td>0</td>\n",
       "      <td>1</td>\n",
       "      <td>0</td>\n",
       "      <td>2</td>\n",
       "      <td>1</td>\n",
       "      <td>1</td>\n",
       "      <td>1</td>\n",
       "      <td>2</td>\n",
       "    </tr>\n",
       "    <tr>\n",
       "      <th>1799</th>\n",
       "      <td>2/12/2023</td>\n",
       "      <td>11:00:00 PM</td>\n",
       "      <td>angel</td>\n",
       "      <td>74.0</td>\n",
       "      <td>NaN</td>\n",
       "      <td>2</td>\n",
       "      <td>1</td>\n",
       "      <td>1</td>\n",
       "      <td>2</td>\n",
       "      <td>1</td>\n",
       "      <td>...</td>\n",
       "      <td>1</td>\n",
       "      <td>2</td>\n",
       "      <td>0</td>\n",
       "      <td>0</td>\n",
       "      <td>0</td>\n",
       "      <td>2</td>\n",
       "      <td>2</td>\n",
       "      <td>2</td>\n",
       "      <td>2</td>\n",
       "      <td>1</td>\n",
       "    </tr>\n",
       "  </tbody>\n",
       "</table>\n",
       "<p>1800 rows × 65 columns</p>\n",
       "</div>"
      ],
      "text/plain": [
       "          fecha         hora    persona  num. comidas  calorias  mandarinas  \\\n",
       "0     11/5/2022   7:00:00 AM  palomares          63.0       NaN           2   \n",
       "1     11/5/2022   7:00:00 AM     adrian          64.0       NaN           1   \n",
       "2     11/5/2022   7:00:00 AM      angel          67.0       NaN           0   \n",
       "3     11/5/2022  10:00:00 AM  palomares          62.0       NaN           1   \n",
       "4     11/5/2022  10:00:00 AM     adrian          52.0       NaN           2   \n",
       "...         ...          ...        ...           ...       ...         ...   \n",
       "1795  2/12/2023  10:00:00 PM     adrian          69.0       NaN           1   \n",
       "1796  2/12/2023  10:00:00 PM      angel          57.0       NaN           1   \n",
       "1797  2/12/2023  11:00:00 PM  palomares          73.0       NaN           1   \n",
       "1798  2/12/2023  11:00:00 PM     adrian          63.0       NaN           0   \n",
       "1799  2/12/2023  11:00:00 PM      angel          74.0       NaN           2   \n",
       "\n",
       "      sandía  mango  jugo de naranja  melon  ...  tostada  uvas  pure  \\\n",
       "0          2      0                2      2  ...        2     0     2   \n",
       "1          1      2                1      2  ...        2     2     2   \n",
       "2          2      2                0      0  ...        1     2     2   \n",
       "3          0      1                2      2  ...        0     0     1   \n",
       "4          0      2                0      0  ...        2     0     1   \n",
       "...      ...    ...              ...    ...  ...      ...   ...   ...   \n",
       "1795       0      1                1      1  ...        0     2     0   \n",
       "1796       0      0                1      1  ...        0     2     2   \n",
       "1797       0      1                2      2  ...        1     0     2   \n",
       "1798       1      1                1      2  ...        0     1     0   \n",
       "1799       1      1                2      1  ...        1     2     0   \n",
       "\n",
       "      tacos de salmon  café  chocolate  snacks  pizza  sabritas  fuzetea   \n",
       "0                   1     0          0       1      2         2         2  \n",
       "1                   1     0          2       2      2         0         0  \n",
       "2                   2     2          0       2      0         1         1  \n",
       "3                   0     0          2       2      0         1         1  \n",
       "4                   1     0          0       0      1         0         2  \n",
       "...               ...   ...        ...     ...    ...       ...       ...  \n",
       "1795                2     1          0       0      2         0         2  \n",
       "1796                1     2          1       2      0         0         2  \n",
       "1797                2     1          2       0      2         1         1  \n",
       "1798                1     0          2       1      1         1         2  \n",
       "1799                0     0          2       2      2         2         1  \n",
       "\n",
       "[1800 rows x 65 columns]"
      ]
     },
     "execution_count": 6,
     "metadata": {},
     "output_type": "execute_result"
    }
   ],
   "source": [
    "generate_data()"
   ]
  },
  {
   "cell_type": "code",
   "execution_count": 7,
   "id": "b9774ad3-bc61-4f29-a48c-0e77bbba3bc6",
   "metadata": {
    "tags": []
   },
   "outputs": [
    {
     "ename": "FileNotFoundError",
     "evalue": "[Errno 2] No such file or directory: 'Final Proyect.xlsx'",
     "output_type": "error",
     "traceback": [
      "\u001b[1;31m---------------------------------------------------------------------------\u001b[0m",
      "\u001b[1;31mFileNotFoundError\u001b[0m                         Traceback (most recent call last)",
      "\u001b[1;32mc:\\Users\\angel\\python\\Anaconda\\DataScience\\Ciencia-de-Datos\\Dataframe.ipynb Cell 7\u001b[0m line \u001b[0;36m1\n\u001b[1;32m----> <a href='vscode-notebook-cell:/c%3A/Users/angel/python/Anaconda/DataScience/Ciencia-de-Datos/Dataframe.ipynb#W6sZmlsZQ%3D%3D?line=0'>1</a>\u001b[0m data \u001b[39m=\u001b[39m read_new_data(new \u001b[39m=\u001b[39m \u001b[39mFalse\u001b[39;00m)\n",
      "\u001b[1;32mc:\\Users\\angel\\python\\Anaconda\\DataScience\\Ciencia-de-Datos\\Dataframe.ipynb Cell 7\u001b[0m line \u001b[0;36m8\n\u001b[0;32m      <a href='vscode-notebook-cell:/c%3A/Users/angel/python/Anaconda/DataScience/Ciencia-de-Datos/Dataframe.ipynb#W6sZmlsZQ%3D%3D?line=5'>6</a>\u001b[0m \u001b[39mdef\u001b[39;00m \u001b[39mread_new_data\u001b[39m(new: \u001b[39mbool\u001b[39m):\n\u001b[1;32m----> <a href='vscode-notebook-cell:/c%3A/Users/angel/python/Anaconda/DataScience/Ciencia-de-Datos/Dataframe.ipynb#W6sZmlsZQ%3D%3D?line=7'>8</a>\u001b[0m     data \u001b[39m=\u001b[39m pd\u001b[39m.\u001b[39mread_excel(\n\u001b[0;32m      <a href='vscode-notebook-cell:/c%3A/Users/angel/python/Anaconda/DataScience/Ciencia-de-Datos/Dataframe.ipynb#W6sZmlsZQ%3D%3D?line=8'>9</a>\u001b[0m         new_archive \u001b[39mif\u001b[39;00m new \u001b[39melse\u001b[39;00m archive,\n\u001b[0;32m     <a href='vscode-notebook-cell:/c%3A/Users/angel/python/Anaconda/DataScience/Ciencia-de-Datos/Dataframe.ipynb#W6sZmlsZQ%3D%3D?line=9'>10</a>\u001b[0m         sheet_name \u001b[39m=\u001b[39m sheet,\n\u001b[0;32m     <a href='vscode-notebook-cell:/c%3A/Users/angel/python/Anaconda/DataScience/Ciencia-de-Datos/Dataframe.ipynb#W6sZmlsZQ%3D%3D?line=10'>11</a>\u001b[0m         na_values \u001b[39m=\u001b[39m \u001b[39mNone\u001b[39;00m\n\u001b[0;32m     <a href='vscode-notebook-cell:/c%3A/Users/angel/python/Anaconda/DataScience/Ciencia-de-Datos/Dataframe.ipynb#W6sZmlsZQ%3D%3D?line=11'>12</a>\u001b[0m     )\n\u001b[0;32m     <a href='vscode-notebook-cell:/c%3A/Users/angel/python/Anaconda/DataScience/Ciencia-de-Datos/Dataframe.ipynb#W6sZmlsZQ%3D%3D?line=13'>14</a>\u001b[0m     \u001b[39mreturn\u001b[39;00m data\n",
      "File \u001b[1;32mc:\\Users\\angel\\AppData\\Local\\anaconda3\\Lib\\site-packages\\pandas\\util\\_decorators.py:211\u001b[0m, in \u001b[0;36mdeprecate_kwarg.<locals>._deprecate_kwarg.<locals>.wrapper\u001b[1;34m(*args, **kwargs)\u001b[0m\n\u001b[0;32m    209\u001b[0m     \u001b[39melse\u001b[39;00m:\n\u001b[0;32m    210\u001b[0m         kwargs[new_arg_name] \u001b[39m=\u001b[39m new_arg_value\n\u001b[1;32m--> 211\u001b[0m \u001b[39mreturn\u001b[39;00m func(\u001b[39m*\u001b[39margs, \u001b[39m*\u001b[39m\u001b[39m*\u001b[39mkwargs)\n",
      "File \u001b[1;32mc:\\Users\\angel\\AppData\\Local\\anaconda3\\Lib\\site-packages\\pandas\\util\\_decorators.py:331\u001b[0m, in \u001b[0;36mdeprecate_nonkeyword_arguments.<locals>.decorate.<locals>.wrapper\u001b[1;34m(*args, **kwargs)\u001b[0m\n\u001b[0;32m    325\u001b[0m \u001b[39mif\u001b[39;00m \u001b[39mlen\u001b[39m(args) \u001b[39m>\u001b[39m num_allow_args:\n\u001b[0;32m    326\u001b[0m     warnings\u001b[39m.\u001b[39mwarn(\n\u001b[0;32m    327\u001b[0m         msg\u001b[39m.\u001b[39mformat(arguments\u001b[39m=\u001b[39m_format_argument_list(allow_args)),\n\u001b[0;32m    328\u001b[0m         \u001b[39mFutureWarning\u001b[39;00m,\n\u001b[0;32m    329\u001b[0m         stacklevel\u001b[39m=\u001b[39mfind_stack_level(),\n\u001b[0;32m    330\u001b[0m     )\n\u001b[1;32m--> 331\u001b[0m \u001b[39mreturn\u001b[39;00m func(\u001b[39m*\u001b[39margs, \u001b[39m*\u001b[39m\u001b[39m*\u001b[39mkwargs)\n",
      "File \u001b[1;32mc:\\Users\\angel\\AppData\\Local\\anaconda3\\Lib\\site-packages\\pandas\\io\\excel\\_base.py:482\u001b[0m, in \u001b[0;36mread_excel\u001b[1;34m(io, sheet_name, header, names, index_col, usecols, squeeze, dtype, engine, converters, true_values, false_values, skiprows, nrows, na_values, keep_default_na, na_filter, verbose, parse_dates, date_parser, thousands, decimal, comment, skipfooter, convert_float, mangle_dupe_cols, storage_options)\u001b[0m\n\u001b[0;32m    480\u001b[0m \u001b[39mif\u001b[39;00m \u001b[39mnot\u001b[39;00m \u001b[39misinstance\u001b[39m(io, ExcelFile):\n\u001b[0;32m    481\u001b[0m     should_close \u001b[39m=\u001b[39m \u001b[39mTrue\u001b[39;00m\n\u001b[1;32m--> 482\u001b[0m     io \u001b[39m=\u001b[39m ExcelFile(io, storage_options\u001b[39m=\u001b[39mstorage_options, engine\u001b[39m=\u001b[39mengine)\n\u001b[0;32m    483\u001b[0m \u001b[39melif\u001b[39;00m engine \u001b[39mand\u001b[39;00m engine \u001b[39m!=\u001b[39m io\u001b[39m.\u001b[39mengine:\n\u001b[0;32m    484\u001b[0m     \u001b[39mraise\u001b[39;00m \u001b[39mValueError\u001b[39;00m(\n\u001b[0;32m    485\u001b[0m         \u001b[39m\"\u001b[39m\u001b[39mEngine should not be specified when passing \u001b[39m\u001b[39m\"\u001b[39m\n\u001b[0;32m    486\u001b[0m         \u001b[39m\"\u001b[39m\u001b[39man ExcelFile - ExcelFile already has the engine set\u001b[39m\u001b[39m\"\u001b[39m\n\u001b[0;32m    487\u001b[0m     )\n",
      "File \u001b[1;32mc:\\Users\\angel\\AppData\\Local\\anaconda3\\Lib\\site-packages\\pandas\\io\\excel\\_base.py:1652\u001b[0m, in \u001b[0;36mExcelFile.__init__\u001b[1;34m(self, path_or_buffer, engine, storage_options)\u001b[0m\n\u001b[0;32m   1650\u001b[0m     ext \u001b[39m=\u001b[39m \u001b[39m\"\u001b[39m\u001b[39mxls\u001b[39m\u001b[39m\"\u001b[39m\n\u001b[0;32m   1651\u001b[0m \u001b[39melse\u001b[39;00m:\n\u001b[1;32m-> 1652\u001b[0m     ext \u001b[39m=\u001b[39m inspect_excel_format(\n\u001b[0;32m   1653\u001b[0m         content_or_path\u001b[39m=\u001b[39mpath_or_buffer, storage_options\u001b[39m=\u001b[39mstorage_options\n\u001b[0;32m   1654\u001b[0m     )\n\u001b[0;32m   1655\u001b[0m     \u001b[39mif\u001b[39;00m ext \u001b[39mis\u001b[39;00m \u001b[39mNone\u001b[39;00m:\n\u001b[0;32m   1656\u001b[0m         \u001b[39mraise\u001b[39;00m \u001b[39mValueError\u001b[39;00m(\n\u001b[0;32m   1657\u001b[0m             \u001b[39m\"\u001b[39m\u001b[39mExcel file format cannot be determined, you must specify \u001b[39m\u001b[39m\"\u001b[39m\n\u001b[0;32m   1658\u001b[0m             \u001b[39m\"\u001b[39m\u001b[39man engine manually.\u001b[39m\u001b[39m\"\u001b[39m\n\u001b[0;32m   1659\u001b[0m         )\n",
      "File \u001b[1;32mc:\\Users\\angel\\AppData\\Local\\anaconda3\\Lib\\site-packages\\pandas\\io\\excel\\_base.py:1525\u001b[0m, in \u001b[0;36minspect_excel_format\u001b[1;34m(content_or_path, storage_options)\u001b[0m\n\u001b[0;32m   1522\u001b[0m \u001b[39mif\u001b[39;00m \u001b[39misinstance\u001b[39m(content_or_path, \u001b[39mbytes\u001b[39m):\n\u001b[0;32m   1523\u001b[0m     content_or_path \u001b[39m=\u001b[39m BytesIO(content_or_path)\n\u001b[1;32m-> 1525\u001b[0m \u001b[39mwith\u001b[39;00m get_handle(\n\u001b[0;32m   1526\u001b[0m     content_or_path, \u001b[39m\"\u001b[39m\u001b[39mrb\u001b[39m\u001b[39m\"\u001b[39m, storage_options\u001b[39m=\u001b[39mstorage_options, is_text\u001b[39m=\u001b[39m\u001b[39mFalse\u001b[39;00m\n\u001b[0;32m   1527\u001b[0m ) \u001b[39mas\u001b[39;00m handle:\n\u001b[0;32m   1528\u001b[0m     stream \u001b[39m=\u001b[39m handle\u001b[39m.\u001b[39mhandle\n\u001b[0;32m   1529\u001b[0m     stream\u001b[39m.\u001b[39mseek(\u001b[39m0\u001b[39m)\n",
      "File \u001b[1;32mc:\\Users\\angel\\AppData\\Local\\anaconda3\\Lib\\site-packages\\pandas\\io\\common.py:865\u001b[0m, in \u001b[0;36mget_handle\u001b[1;34m(path_or_buf, mode, encoding, compression, memory_map, is_text, errors, storage_options)\u001b[0m\n\u001b[0;32m    856\u001b[0m         handle \u001b[39m=\u001b[39m \u001b[39mopen\u001b[39m(\n\u001b[0;32m    857\u001b[0m             handle,\n\u001b[0;32m    858\u001b[0m             ioargs\u001b[39m.\u001b[39mmode,\n\u001b[1;32m   (...)\u001b[0m\n\u001b[0;32m    861\u001b[0m             newline\u001b[39m=\u001b[39m\u001b[39m\"\u001b[39m\u001b[39m\"\u001b[39m,\n\u001b[0;32m    862\u001b[0m         )\n\u001b[0;32m    863\u001b[0m     \u001b[39melse\u001b[39;00m:\n\u001b[0;32m    864\u001b[0m         \u001b[39m# Binary mode\u001b[39;00m\n\u001b[1;32m--> 865\u001b[0m         handle \u001b[39m=\u001b[39m \u001b[39mopen\u001b[39m(handle, ioargs\u001b[39m.\u001b[39mmode)\n\u001b[0;32m    866\u001b[0m     handles\u001b[39m.\u001b[39mappend(handle)\n\u001b[0;32m    868\u001b[0m \u001b[39m# Convert BytesIO or file objects passed with an encoding\u001b[39;00m\n",
      "\u001b[1;31mFileNotFoundError\u001b[0m: [Errno 2] No such file or directory: 'Final Proyect.xlsx'"
     ]
    }
   ],
   "source": [
    "data = read_new_data(new = False)"
   ]
  },
  {
   "cell_type": "code",
   "execution_count": null,
   "id": "886ac8cf-a06f-49e5-9187-cd5a91ca0859",
   "metadata": {
    "tags": []
   },
   "outputs": [
    {
     "ename": "",
     "evalue": "",
     "output_type": "error",
     "traceback": [
      "\u001b[1;31mRunning cells with 'c:\\Users\\angel\\Downloads\\python\\python.exe' requires the ipykernel package.\n",
      "\u001b[1;31mRun the following command to install 'ipykernel' into the Python environment. \n",
      "\u001b[1;31mCommand: 'c:/Users/angel/Downloads/python/python.exe -m pip install ipykernel -U --user --force-reinstall'"
     ]
    }
   ],
   "source": [
    "data"
   ]
  },
  {
   "cell_type": "code",
   "execution_count": null,
   "id": "c1f1cd25-4010-4e7c-a732-f0c5d5172237",
   "metadata": {
    "tags": []
   },
   "outputs": [
    {
     "ename": "",
     "evalue": "",
     "output_type": "error",
     "traceback": [
      "\u001b[1;31mRunning cells with 'c:\\Users\\angel\\Downloads\\python\\python.exe' requires the ipykernel package.\n",
      "\u001b[1;31mRun the following command to install 'ipykernel' into the Python environment. \n",
      "\u001b[1;31mCommand: 'c:/Users/angel/Downloads/python/python.exe -m pip install ipykernel -U --user --force-reinstall'"
     ]
    }
   ],
   "source": [
    "plt.scatter(data['fecha'], data['calorias'])"
   ]
  },
  {
   "cell_type": "markdown",
   "id": "48f244d3-2675-4601-987a-c0b2c2e70945",
   "metadata": {},
   "source": [
    "plt.scatter()"
   ]
  },
  {
   "cell_type": "code",
   "execution_count": null,
   "id": "264dd85e-9a1c-4493-97b4-82a3bb3ea8cd",
   "metadata": {},
   "outputs": [
    {
     "ename": "",
     "evalue": "",
     "output_type": "error",
     "traceback": [
      "\u001b[1;31mRunning cells with 'c:\\Users\\angel\\Downloads\\python\\python.exe' requires the ipykernel package.\n",
      "\u001b[1;31mRun the following command to install 'ipykernel' into the Python environment. \n",
      "\u001b[1;31mCommand: 'c:/Users/angel/Downloads/python/python.exe -m pip install ipykernel -U --user --force-reinstall'"
     ]
    }
   ],
   "source": []
  },
  {
   "cell_type": "markdown",
   "id": "dcce0bbc-7d90-4556-b8b2-3418ae592ca6",
   "metadata": {},
   "source": [
    "generate_dates(inicial_date, data_size, rows_per_person)"
   ]
  },
  {
   "cell_type": "code",
   "execution_count": null,
   "id": "66471f5d-8ab2-4740-bd62-87265c921807",
   "metadata": {},
   "outputs": [
    {
     "ename": "",
     "evalue": "",
     "output_type": "error",
     "traceback": [
      "\u001b[1;31mRunning cells with 'c:\\Users\\angel\\Downloads\\python\\python.exe' requires the ipykernel package.\n",
      "\u001b[1;31mRun the following command to install 'ipykernel' into the Python environment. \n",
      "\u001b[1;31mCommand: 'c:/Users/angel/Downloads/python/python.exe -m pip install ipykernel -U --user --force-reinstall'"
     ]
    }
   ],
   "source": []
  },
  {
   "cell_type": "code",
   "execution_count": null,
   "id": "53c7182f-f2d1-4d72-8114-da4c70c0255b",
   "metadata": {},
   "outputs": [
    {
     "ename": "",
     "evalue": "",
     "output_type": "error",
     "traceback": [
      "\u001b[1;31mRunning cells with 'c:\\Users\\angel\\Downloads\\python\\python.exe' requires the ipykernel package.\n",
      "\u001b[1;31mRun the following command to install 'ipykernel' into the Python environment. \n",
      "\u001b[1;31mCommand: 'c:/Users/angel/Downloads/python/python.exe -m pip install ipykernel -U --user --force-reinstall'"
     ]
    }
   ],
   "source": []
  },
  {
   "cell_type": "code",
   "execution_count": null,
   "id": "27d3d05e-bf02-4268-ba07-46a35b079748",
   "metadata": {},
   "outputs": [
    {
     "ename": "",
     "evalue": "",
     "output_type": "error",
     "traceback": [
      "\u001b[1;31mRunning cells with 'c:\\Users\\angel\\Downloads\\python\\python.exe' requires the ipykernel package.\n",
      "\u001b[1;31mRun the following command to install 'ipykernel' into the Python environment. \n",
      "\u001b[1;31mCommand: 'c:/Users/angel/Downloads/python/python.exe -m pip install ipykernel -U --user --force-reinstall'"
     ]
    }
   ],
   "source": []
  },
  {
   "cell_type": "code",
   "execution_count": null,
   "id": "7eb81ce0-5a5a-4161-b8c6-40e75464a3e6",
   "metadata": {},
   "outputs": [
    {
     "ename": "",
     "evalue": "",
     "output_type": "error",
     "traceback": [
      "\u001b[1;31mRunning cells with 'c:\\Users\\angel\\Downloads\\python\\python.exe' requires the ipykernel package.\n",
      "\u001b[1;31mRun the following command to install 'ipykernel' into the Python environment. \n",
      "\u001b[1;31mCommand: 'c:/Users/angel/Downloads/python/python.exe -m pip install ipykernel -U --user --force-reinstall'"
     ]
    }
   ],
   "source": []
  },
  {
   "cell_type": "code",
   "execution_count": null,
   "id": "6b81204b-3366-4d12-bdde-70d43962dc13",
   "metadata": {},
   "outputs": [
    {
     "ename": "",
     "evalue": "",
     "output_type": "error",
     "traceback": [
      "\u001b[1;31mRunning cells with 'c:\\Users\\angel\\Downloads\\python\\python.exe' requires the ipykernel package.\n",
      "\u001b[1;31mRun the following command to install 'ipykernel' into the Python environment. \n",
      "\u001b[1;31mCommand: 'c:/Users/angel/Downloads/python/python.exe -m pip install ipykernel -U --user --force-reinstall'"
     ]
    }
   ],
   "source": []
  },
  {
   "cell_type": "code",
   "execution_count": null,
   "id": "86366173-35be-4379-ad69-5844082dc287",
   "metadata": {},
   "outputs": [
    {
     "ename": "",
     "evalue": "",
     "output_type": "error",
     "traceback": [
      "\u001b[1;31mRunning cells with 'c:\\Users\\angel\\Downloads\\python\\python.exe' requires the ipykernel package.\n",
      "\u001b[1;31mRun the following command to install 'ipykernel' into the Python environment. \n",
      "\u001b[1;31mCommand: 'c:/Users/angel/Downloads/python/python.exe -m pip install ipykernel -U --user --force-reinstall'"
     ]
    }
   ],
   "source": []
  },
  {
   "cell_type": "code",
   "execution_count": null,
   "id": "32b3cc67-c603-45aa-bf78-2629acaef2f5",
   "metadata": {},
   "outputs": [
    {
     "ename": "",
     "evalue": "",
     "output_type": "error",
     "traceback": [
      "\u001b[1;31mRunning cells with 'c:\\Users\\angel\\Downloads\\python\\python.exe' requires the ipykernel package.\n",
      "\u001b[1;31mRun the following command to install 'ipykernel' into the Python environment. \n",
      "\u001b[1;31mCommand: 'c:/Users/angel/Downloads/python/python.exe -m pip install ipykernel -U --user --force-reinstall'"
     ]
    }
   ],
   "source": []
  },
  {
   "cell_type": "code",
   "execution_count": null,
   "id": "d843218a-ba15-4132-8ad7-d35bdc65ccc5",
   "metadata": {},
   "outputs": [
    {
     "ename": "",
     "evalue": "",
     "output_type": "error",
     "traceback": [
      "\u001b[1;31mRunning cells with 'c:\\Users\\angel\\Downloads\\python\\python.exe' requires the ipykernel package.\n",
      "\u001b[1;31mRun the following command to install 'ipykernel' into the Python environment. \n",
      "\u001b[1;31mCommand: 'c:/Users/angel/Downloads/python/python.exe -m pip install ipykernel -U --user --force-reinstall'"
     ]
    }
   ],
   "source": []
  },
  {
   "cell_type": "code",
   "execution_count": null,
   "id": "d3163992-21ce-4a01-a0e2-ec91c341e11c",
   "metadata": {},
   "outputs": [
    {
     "ename": "",
     "evalue": "",
     "output_type": "error",
     "traceback": [
      "\u001b[1;31mRunning cells with 'c:\\Users\\angel\\Downloads\\python\\python.exe' requires the ipykernel package.\n",
      "\u001b[1;31mRun the following command to install 'ipykernel' into the Python environment. \n",
      "\u001b[1;31mCommand: 'c:/Users/angel/Downloads/python/python.exe -m pip install ipykernel -U --user --force-reinstall'"
     ]
    }
   ],
   "source": []
  },
  {
   "cell_type": "code",
   "execution_count": null,
   "id": "32d384ef-4155-46b8-a911-c8209dcd8e68",
   "metadata": {},
   "outputs": [
    {
     "ename": "",
     "evalue": "",
     "output_type": "error",
     "traceback": [
      "\u001b[1;31mRunning cells with 'c:\\Users\\angel\\Downloads\\python\\python.exe' requires the ipykernel package.\n",
      "\u001b[1;31mRun the following command to install 'ipykernel' into the Python environment. \n",
      "\u001b[1;31mCommand: 'c:/Users/angel/Downloads/python/python.exe -m pip install ipykernel -U --user --force-reinstall'"
     ]
    }
   ],
   "source": []
  },
  {
   "cell_type": "markdown",
   "id": "03176852-778c-4518-9afd-2ba0a862c2c4",
   "metadata": {
    "tags": []
   },
   "source": [
    "print_data(True)"
   ]
  },
  {
   "cell_type": "code",
   "execution_count": null,
   "id": "d0f92e16-2697-4721-a633-0e59c26ce6aa",
   "metadata": {},
   "outputs": [
    {
     "ename": "",
     "evalue": "",
     "output_type": "error",
     "traceback": [
      "\u001b[1;31mRunning cells with 'c:\\Users\\angel\\Downloads\\python\\python.exe' requires the ipykernel package.\n",
      "\u001b[1;31mRun the following command to install 'ipykernel' into the Python environment. \n",
      "\u001b[1;31mCommand: 'c:/Users/angel/Downloads/python/python.exe -m pip install ipykernel -U --user --force-reinstall'"
     ]
    }
   ],
   "source": []
  }
 ],
 "metadata": {
  "kernelspec": {
   "display_name": "Python 3 (ipykernel)",
   "language": "python",
   "name": "python3"
  },
  "language_info": {
   "codemirror_mode": {
    "name": "ipython",
    "version": 3
   },
   "file_extension": ".py",
   "mimetype": "text/x-python",
   "name": "python",
   "nbconvert_exporter": "python",
   "pygments_lexer": "ipython3",
   "version": "3.11.3"
  }
 },
 "nbformat": 4,
 "nbformat_minor": 5
}
